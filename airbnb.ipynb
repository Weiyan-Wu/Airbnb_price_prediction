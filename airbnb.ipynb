{
 "cells": [
  {
   "cell_type": "markdown",
   "metadata": {},
   "source": [
    "# AirBnB Data\n",
    "\n",
    "In this problem, we will predict the price of an AirBnB listing as a function of its attributes. We get our data from this source: https://www.kaggle.com/c/airbnblala/data#\n",
    "\n",
    "We first import all of the modules we need."
   ]
  },
  {
   "cell_type": "code",
   "execution_count": 346,
   "metadata": {},
   "outputs": [
    {
     "name": "stdout",
     "output_type": "stream",
     "text": [
      "Requirement already satisfied: statsmodels in /Users/wu_weiyan/opt/anaconda3/lib/python3.8/site-packages (0.12.0)\n",
      "Requirement already satisfied: patsy>=0.5 in /Users/wu_weiyan/opt/anaconda3/lib/python3.8/site-packages (from statsmodels) (0.5.1)\n",
      "Requirement already satisfied: numpy>=1.15 in /Users/wu_weiyan/opt/anaconda3/lib/python3.8/site-packages (from statsmodels) (1.19.2)\n",
      "Requirement already satisfied: scipy>=1.1 in /Users/wu_weiyan/opt/anaconda3/lib/python3.8/site-packages (from statsmodels) (1.5.2)\n",
      "Requirement already satisfied: pandas>=0.21 in /Users/wu_weiyan/opt/anaconda3/lib/python3.8/site-packages (from statsmodels) (1.1.3)\n",
      "Requirement already satisfied: six in /Users/wu_weiyan/opt/anaconda3/lib/python3.8/site-packages (from patsy>=0.5->statsmodels) (1.15.0)\n",
      "Requirement already satisfied: python-dateutil>=2.7.3 in /Users/wu_weiyan/opt/anaconda3/lib/python3.8/site-packages (from pandas>=0.21->statsmodels) (2.8.1)\n",
      "Requirement already satisfied: pytz>=2017.2 in /Users/wu_weiyan/opt/anaconda3/lib/python3.8/site-packages (from pandas>=0.21->statsmodels) (2020.1)\n"
     ]
    }
   ],
   "source": [
    "# reminder: you can install packages (eg, statsmodels) with \n",
    "!pip install statsmodels"
   ]
  },
  {
   "cell_type": "code",
   "execution_count": 347,
   "metadata": {},
   "outputs": [],
   "source": [
    "import numpy as np\n",
    "import pandas as pd\n",
    "\n",
    "import statsmodels.api as sm\n",
    "\n",
    "import matplotlib.pyplot as plt \n",
    "%matplotlib inline\n",
    "\n",
    "import random as rand"
   ]
  },
  {
   "cell_type": "markdown",
   "metadata": {},
   "source": [
    "Then we load the data. We will also print a list of each columns together with its datatype, using the \"type\" function."
   ]
  },
  {
   "cell_type": "code",
   "execution_count": 348,
   "metadata": {},
   "outputs": [
    {
     "name": "stdout",
     "output_type": "stream",
     "text": [
      "0 \t id \t\t\t <class 'numpy.int64'>\n",
      "1 \t listing_url \t\t\t <class 'str'>\n",
      "2 \t scrape_id \t\t\t <class 'numpy.int64'>\n",
      "3 \t last_scraped \t\t\t <class 'str'>\n",
      "4 \t name \t\t\t <class 'str'>\n",
      "5 \t summary \t\t\t <class 'str'>\n",
      "6 \t space \t\t\t <class 'float'>\n",
      "7 \t description \t\t\t <class 'str'>\n",
      "8 \t experiences_offered \t\t\t <class 'str'>\n",
      "9 \t neighborhood_overview \t\t\t <class 'str'>\n",
      "10 \t notes \t\t\t <class 'float'>\n",
      "11 \t transit \t\t\t <class 'str'>\n",
      "12 \t access \t\t\t <class 'str'>\n",
      "13 \t interaction \t\t\t <class 'str'>\n",
      "14 \t house_rules \t\t\t <class 'float'>\n",
      "15 \t thumbnail_url \t\t\t <class 'numpy.float64'>\n",
      "16 \t medium_url \t\t\t <class 'numpy.float64'>\n",
      "17 \t picture_url \t\t\t <class 'str'>\n",
      "18 \t xl_picture_url \t\t\t <class 'numpy.float64'>\n",
      "19 \t host_id \t\t\t <class 'numpy.int64'>\n",
      "20 \t host_url \t\t\t <class 'str'>\n",
      "21 \t host_name \t\t\t <class 'str'>\n",
      "22 \t host_since \t\t\t <class 'str'>\n",
      "23 \t host_location \t\t\t <class 'str'>\n",
      "24 \t host_about \t\t\t <class 'str'>\n",
      "25 \t host_response_time \t\t\t <class 'float'>\n",
      "26 \t host_response_rate \t\t\t <class 'float'>\n",
      "27 \t host_acceptance_rate \t\t\t <class 'numpy.float64'>\n",
      "28 \t host_is_superhost \t\t\t <class 'str'>\n",
      "29 \t host_thumbnail_url \t\t\t <class 'str'>\n",
      "30 \t host_picture_url \t\t\t <class 'str'>\n",
      "31 \t host_neighbourhood \t\t\t <class 'str'>\n",
      "32 \t host_listings_count \t\t\t <class 'numpy.int64'>\n",
      "33 \t host_total_listings_count \t\t\t <class 'numpy.int64'>\n",
      "34 \t host_verifications \t\t\t <class 'str'>\n",
      "35 \t host_has_profile_pic \t\t\t <class 'str'>\n",
      "36 \t host_identity_verified \t\t\t <class 'str'>\n",
      "37 \t street \t\t\t <class 'str'>\n",
      "38 \t neighbourhood \t\t\t <class 'str'>\n",
      "39 \t neighbourhood_cleansed \t\t\t <class 'str'>\n",
      "40 \t neighbourhood_group_cleansed \t\t\t <class 'str'>\n",
      "41 \t city \t\t\t <class 'str'>\n",
      "42 \t state \t\t\t <class 'str'>\n",
      "43 \t zipcode \t\t\t <class 'str'>\n",
      "44 \t market \t\t\t <class 'str'>\n",
      "45 \t smart_location \t\t\t <class 'str'>\n",
      "46 \t country_code \t\t\t <class 'str'>\n",
      "47 \t country \t\t\t <class 'str'>\n",
      "48 \t latitude \t\t\t <class 'numpy.float64'>\n",
      "49 \t longitude \t\t\t <class 'numpy.float64'>\n",
      "50 \t is_location_exact \t\t\t <class 'str'>\n",
      "51 \t property_type \t\t\t <class 'str'>\n",
      "52 \t room_type \t\t\t <class 'str'>\n",
      "53 \t accommodates \t\t\t <class 'numpy.int64'>\n",
      "54 \t bathrooms \t\t\t <class 'numpy.float64'>\n",
      "55 \t bedrooms \t\t\t <class 'numpy.int64'>\n",
      "56 \t beds \t\t\t <class 'numpy.float64'>\n",
      "57 \t bed_type \t\t\t <class 'str'>\n",
      "58 \t amenities \t\t\t <class 'str'>\n",
      "59 \t square_feet \t\t\t <class 'numpy.float64'>\n",
      "60 \t price \t\t\t <class 'numpy.int64'>\n",
      "61 \t weekly_price \t\t\t <class 'numpy.float64'>\n",
      "62 \t monthly_price \t\t\t <class 'numpy.float64'>\n",
      "63 \t security_deposit \t\t\t <class 'numpy.float64'>\n",
      "64 \t cleaning_fee \t\t\t <class 'numpy.float64'>\n",
      "65 \t guests_included \t\t\t <class 'numpy.int64'>\n",
      "66 \t extra_people \t\t\t <class 'numpy.int64'>\n",
      "67 \t minimum_nights \t\t\t <class 'numpy.int64'>\n",
      "68 \t maximum_nights \t\t\t <class 'numpy.int64'>\n",
      "69 \t calendar_updated \t\t\t <class 'str'>\n",
      "70 \t has_availability \t\t\t <class 'str'>\n",
      "71 \t availability_30 \t\t\t <class 'numpy.int64'>\n",
      "72 \t availability_60 \t\t\t <class 'numpy.int64'>\n",
      "73 \t availability_90 \t\t\t <class 'numpy.int64'>\n",
      "74 \t availability_365 \t\t\t <class 'numpy.int64'>\n",
      "75 \t calendar_last_scraped \t\t\t <class 'str'>\n",
      "76 \t number_of_reviews \t\t\t <class 'numpy.int64'>\n",
      "77 \t first_review \t\t\t <class 'str'>\n",
      "78 \t last_review \t\t\t <class 'str'>\n",
      "79 \t review_scores_rating \t\t\t <class 'numpy.int64'>\n",
      "80 \t review_scores_accuracy \t\t\t <class 'numpy.int64'>\n",
      "81 \t review_scores_cleanliness \t\t\t <class 'numpy.int64'>\n",
      "82 \t review_scores_checkin \t\t\t <class 'numpy.int64'>\n",
      "83 \t review_scores_communication \t\t\t <class 'numpy.int64'>\n",
      "84 \t review_scores_location \t\t\t <class 'numpy.int64'>\n",
      "85 \t review_scores_value \t\t\t <class 'numpy.int64'>\n",
      "86 \t requires_license \t\t\t <class 'str'>\n",
      "87 \t license \t\t\t <class 'numpy.float64'>\n",
      "88 \t jurisdiction_names \t\t\t <class 'numpy.float64'>\n",
      "89 \t instant_bookable \t\t\t <class 'str'>\n",
      "90 \t is_business_travel_ready \t\t\t <class 'str'>\n",
      "91 \t cancellation_policy \t\t\t <class 'str'>\n",
      "92 \t require_guest_profile_picture \t\t\t <class 'str'>\n",
      "93 \t require_guest_phone_verification \t\t\t <class 'str'>\n",
      "94 \t calculated_host_listings_count \t\t\t <class 'numpy.int64'>\n",
      "95 \t reviews_per_month \t\t\t <class 'numpy.float64'>\n"
     ]
    }
   ],
   "source": [
    "np.random.seed(26)\n",
    "df = pd.read_csv('airbnb.csv')\n",
    "\n",
    "feature_names = df.columns\n",
    "for i in range(96):\n",
    "    print(str(i), \"\\t\", str(feature_names[i]),\"\\t\\t\\t\", str(type(df.iloc[0,i])))"
   ]
  },
  {
   "cell_type": "markdown",
   "metadata": {},
   "source": [
    "## a) Train / Test Split\n",
    "\n",
    "The price columns, 61, 62, and 63, are our labels; the rest of the columns are our features. We now will generate a data matrix ($X$ from class), use column 61 as a target vector ($y$ from class), and create a train/test split so that we can empirically test for overfitting.\n",
    "\n",
    "To make the 80 / 20 train test split, we shuffle the data and select the first $80\\%$ as the train data, with $20\\%$ held out for validation.\n",
    "\n",
    "Use the code below to create a train / test split."
   ]
  },
  {
   "cell_type": "code",
   "execution_count": 349,
   "metadata": {},
   "outputs": [
    {
     "name": "stdout",
     "output_type": "stream",
     "text": [
      "Size of dataset:  25951\n",
      "Training dataset:               id                            listing_url       scrape_id  \\\n",
      "7594   14105094  https://www.airbnb.com/rooms/14105094  20180303203649   \n",
      "21726  13550201  https://www.airbnb.com/rooms/13550201  20180303203649   \n",
      "17786  12284280  https://www.airbnb.com/rooms/12284280  20180303203649   \n",
      "11689  16220723  https://www.airbnb.com/rooms/16220723  20180303203649   \n",
      "15453   8191897   https://www.airbnb.com/rooms/8191897  20180303203649   \n",
      "...         ...                                    ...             ...   \n",
      "14067  22341125  https://www.airbnb.com/rooms/22341125  20180303203649   \n",
      "4501   13099377  https://www.airbnb.com/rooms/13099377  20180303203649   \n",
      "19453   2447138   https://www.airbnb.com/rooms/2447138  20180303203649   \n",
      "13354  19532525  https://www.airbnb.com/rooms/19532525  20180303203649   \n",
      "15873   8053664   https://www.airbnb.com/rooms/8053664  20180303203649   \n",
      "\n",
      "      last_scraped                                               name  \\\n",
      "7594    2018-03-05  Airy, light-flooded 2-bath West Village apartment   \n",
      "21726   2018-03-04  Manhattan-very close to everywhere muy cercade...   \n",
      "17786   2018-03-05    Legal full floor by Sunset Park, 20mins to Soho   \n",
      "11689   2018-03-05               Private Room w/ full bed in Brooklyn   \n",
      "15453   2018-03-05   Cozy room in the best neighborhood!-Williamsburg   \n",
      "...            ...                                                ...   \n",
      "14067   2018-03-04   Cozy Room Modern Apartment in Financial District   \n",
      "4501    2018-03-05  1 Bedroom in Quiet Hamilton Heights Neighborhood.   \n",
      "19453   2018-03-05       HUGE LUX 2FLOOR 2 BDRMSOHO LOFTw/HOME CINEMA   \n",
      "13354   2018-03-05                                           Le Belle   \n",
      "15873   2018-03-04                       Bare Bones Backyard Bungalow   \n",
      "\n",
      "                                                 summary  \\\n",
      "7594   Our place is close to The High Line, Whitney M...   \n",
      "21726  Manhattan- very close to  everywhere Manhattan...   \n",
      "17786  This newly renovated, quiet, and legal full fl...   \n",
      "11689  My place is close to Nostrand Avenue Pubs, Key...   \n",
      "15453  Room with lofted bed in a  2br, Williamsburg L...   \n",
      "...                                                  ...   \n",
      "14067  A cozy, sunny and modern room with a real comf...   \n",
      "4501   Spacious 1 Bedroom Furnished Apartment For Sub...   \n",
      "19453  Huge LUXURY 2 bedroom 2 FLOOR loft in Soho/Tri...   \n",
      "13354  Private apartment  24hr camera surveillance  1...   \n",
      "15873  Newly renovated 3 bedroom apartment in Bushwic...   \n",
      "\n",
      "                                                   space  \\\n",
      "7594   This apartment is located in an historic New Y...   \n",
      "21726                                                NaN   \n",
      "17786  Our space has all new furniture and appliances...   \n",
      "11689                                                NaN   \n",
      "15453  -Unique loft space, the room for rent has a lo...   \n",
      "...                                                  ...   \n",
      "14067  The apartment is modern, cozy and comfortable....   \n",
      "4501                                                 NaN   \n",
      "19453  LUXURY LOFT -  2 bedroom 2 bathroom loft apart...   \n",
      "13354  There are two flat screen tv with cable and fi...   \n",
      "15873  Decent sized bedroom with great natural light ...   \n",
      "\n",
      "                                             description experiences_offered  \\\n",
      "7594   Our place is close to The High Line, Whitney M...                none   \n",
      "21726  Manhattan- very close to  everywhere Manhattan...                none   \n",
      "17786  This newly renovated, quiet, and legal full fl...                none   \n",
      "11689  My place is close to Nostrand Avenue Pubs, Key...                none   \n",
      "15453  Room with lofted bed in a  2br, Williamsburg L...                none   \n",
      "...                                                  ...                 ...   \n",
      "14067  A cozy, sunny and modern room with a real comf...                none   \n",
      "4501   Spacious 1 Bedroom Furnished Apartment For Sub...                none   \n",
      "19453  Huge LUXURY 2 bedroom 2 FLOOR loft in Soho/Tri...                none   \n",
      "13354  Private apartment  24hr camera surveillance  1...                none   \n",
      "15873  Newly renovated 3 bedroom apartment in Bushwic...                none   \n",
      "\n",
      "                                   neighborhood_overview  ...  \\\n",
      "7594   Enjoy the best neighborhood in the big city! T...  ...   \n",
      "21726                                                NaN  ...   \n",
      "17786  Sunset Park is a unique New York neighborhood,...  ...   \n",
      "11689                                                NaN  ...   \n",
      "15453  Close to the Williamsburg Bridge and East rive...  ...   \n",
      "...                                                  ...  ...   \n",
      "14067  El area es la mejor de Manhattan, tranquila, l...  ...   \n",
      "4501                                                 NaN  ...   \n",
      "19453  The streets surrounding that building are fill...  ...   \n",
      "13354  My place is close to JFK  It's close to a groc...  ...   \n",
      "15873  This is a great neighborhood that has everythi...  ...   \n",
      "\n",
      "      requires_license license jurisdiction_names instant_bookable  \\\n",
      "7594                 f     NaN                NaN                t   \n",
      "21726                f     NaN                NaN                t   \n",
      "17786                f     NaN                NaN                f   \n",
      "11689                f     NaN                NaN                t   \n",
      "15453                f     NaN                NaN                f   \n",
      "...                ...     ...                ...              ...   \n",
      "14067                f     NaN                NaN                t   \n",
      "4501                 f     NaN                NaN                f   \n",
      "19453                f     NaN                NaN                f   \n",
      "13354                f     NaN                NaN                t   \n",
      "15873                f     NaN                NaN                f   \n",
      "\n",
      "      is_business_travel_ready  cancellation_policy  \\\n",
      "7594                         f             moderate   \n",
      "21726                        f               strict   \n",
      "17786                        t               strict   \n",
      "11689                        f             flexible   \n",
      "15453                        f               strict   \n",
      "...                        ...                  ...   \n",
      "14067                        f               strict   \n",
      "4501                         f             flexible   \n",
      "19453                        f               strict   \n",
      "13354                        f               strict   \n",
      "15873                        f               strict   \n",
      "\n",
      "       require_guest_profile_picture require_guest_phone_verification  \\\n",
      "7594                               f                                f   \n",
      "21726                              f                                f   \n",
      "17786                              f                                f   \n",
      "11689                              f                                f   \n",
      "15453                              f                                f   \n",
      "...                              ...                              ...   \n",
      "14067                              f                                f   \n",
      "4501                               f                                f   \n",
      "19453                              f                                f   \n",
      "13354                              f                                f   \n",
      "15873                              f                                f   \n",
      "\n",
      "       calculated_host_listings_count  reviews_per_month  \n",
      "7594                                1               0.05  \n",
      "21726                               3               0.53  \n",
      "17786                               1               2.58  \n",
      "11689                               1               0.34  \n",
      "15453                               2               0.30  \n",
      "...                               ...                ...  \n",
      "14067                               2               3.00  \n",
      "4501                                1               0.07  \n",
      "19453                               1               0.22  \n",
      "13354                               1               9.60  \n",
      "15873                               1               0.03  \n",
      "\n",
      "[20760 rows x 93 columns]\n"
     ]
    }
   ],
   "source": [
    "df = df[~df['price'].isna()] # let's only consider the examples for which the price is known\n",
    "df = df.sample(frac = 1) # we shuffle the data so that our train/test split will be truly random\n",
    "\n",
    "train_proportion = 0.8\n",
    "n = len(df)\n",
    "print('Size of dataset: ', str(n))\n",
    "\n",
    "# Put the first ntrain observations in the DataFrame df into the training set, and the rest into the test set\n",
    "t = int(train_proportion * n)\n",
    "\n",
    "target = df['price']\n",
    "price_columns = ['price','weekly_price','monthly_price']\n",
    "data = df.loc[:, ~df.columns.isin(price_columns)]\n",
    "\n",
    "# the following variable records the features of examples in the training set\n",
    "train_x = data.iloc[0: t]\n",
    "# the following variable records the features of examples in the test set\n",
    "test_x = data.iloc[t :]\n",
    "# the following variable records the labels of examples in the training set\n",
    "train_y = target[0: t]\n",
    "# the following variable records the labels of examples in the test set\n",
    "test_y = target[t:]\n",
    "\n",
    "# let's take a look\n",
    "print('Training dataset: ', train_x)"
   ]
  },
  {
   "cell_type": "markdown",
   "metadata": {},
   "source": [
    "## b) Real-Valued Data\n",
    "\n",
    "Your first task will be to fit a linear model to the simplest type of data available - the real-valued parameters. Once you fit your model to the train data, you will need to print train and test mean squared error, as well as plot the predicted vs the real price.\n",
    "\n",
    "The starter code includes some data processing routines, as well as a plot function.\n",
    "\n",
    "Now, let's select out all numerical data that might be useful for predicting the price. Here is a list:\n",
    "\n",
    "  - host_listings_count\n",
    "  - host_total_listings_count\n",
    "  - accomodates\n",
    "  - bathrooms\n",
    "  - bedrooms\n",
    "  - guests_included\t\t\n",
    "  - extra_people\n",
    "  - minimum_nights\n",
    "  - maximum_nights\n",
    "  - availability_30\n",
    "  - availability_60\n",
    "  - availability_90\n",
    "  - availability_365\n",
    "  - number_of_reviews\n",
    "  - review_scores_rating\n",
    "  - review_scores_accuracy\n",
    "  - review_scores_cleanliness\n",
    "  - review_scores_checkin\n",
    "  - review_scores_communication\n",
    "  - review_scores_location\n",
    "  - review_scores_value\n",
    "\n",
    "These will be easy to grab, but it's important to also include the following stored as a string:\n",
    "\n",
    "  - beds\n",
    "  - security_deposit\n",
    "  - cleaning_fee\n",
    "  \n",
    "For those, we provide write a utility function, which interprets any non-numerical value as a \"0\", which is an accurate interpretation of \"N\\A\" in this context."
   ]
  },
  {
   "cell_type": "code",
   "execution_count": 350,
   "metadata": {},
   "outputs": [],
   "source": [
    "# \"This function converts strings to floating point values \n",
    "# and strings that cannot be represented as a number (like NA) are converted to zeros\"\n",
    "def string_to_float(string):\n",
    "    try:\n",
    "        return float(string)\n",
    "    except:\n",
    "        return 0.0\n",
    "\n",
    "labels_real = [\n",
    "  'host_listings_count',\n",
    "  'host_total_listings_count',\n",
    "  'accommodates',\n",
    "  'bathrooms',\n",
    "  'bedrooms',\n",
    "  'guests_included',\n",
    "  'extra_people',\n",
    "  'minimum_nights',\n",
    "  'maximum_nights',\n",
    "  'availability_30',\n",
    "  'availability_60',\n",
    "  'availability_90',\n",
    "  'availability_365',\n",
    "  'number_of_reviews',\n",
    "  'review_scores_rating',\n",
    "  'review_scores_accuracy',\n",
    "  'review_scores_cleanliness',\n",
    "  'review_scores_checkin',\n",
    "  'review_scores_communication',\n",
    "  'review_scores_location',\n",
    "  'review_scores_value'\n",
    "]\n",
    "\n",
    "\n",
    "labels_string = [\n",
    "    'beds',\n",
    "    'security_deposit',\n",
    "    'cleaning_fee'\n",
    "]"
   ]
  },
  {
   "cell_type": "markdown",
   "metadata": {},
   "source": [
    "Extract the real valued data first and cast it as an numpy array with np.asarray()"
   ]
  },
  {
   "cell_type": "code",
   "execution_count": 351,
   "metadata": {},
   "outputs": [],
   "source": [
    "# the following variable should have as many columns as real variables, and as many rows as examples in the training set    \n",
    "train_vals_real = np.asarray(train_x[labels_real])\n",
    "# the following variable should have as many columns as real variables, and as many rows as examples in the test set\n",
    "test_vals_real = np.asarray(test_x[labels_real])\n",
    "\n"
   ]
  },
  {
   "cell_type": "markdown",
   "metadata": {},
   "source": [
    "Now, we can extract the specific columns related to these labels, convert them to floats as necessary, but **DO NOT** convert the result to numpy arrays yet. (We will run an asseration test to make sure everything is working as intended.)\n",
    "\n",
    "Use .fillna() and .applymap() methods to apply the string_to_float() function elementwise. In particular, impute NaN values with 0.0 (float valued data). You shouldn't need more than one line per expression below."
   ]
  },
  {
   "cell_type": "code",
   "execution_count": 352,
   "metadata": {},
   "outputs": [],
   "source": [
    "# the following variable should have as many columns as string variables, and as many rows as examples in the training set  \n",
    "train_vals_from_string = train_x[labels_string].fillna(0).applymap(string_to_float)\n",
    "# the following variable should have as many columns as string variables, and as many rows as examples in the test set      \n",
    "test_vals_from_string = test_x[labels_string].fillna(0).applymap(string_to_float)"
   ]
  },
  {
   "cell_type": "code",
   "execution_count": 353,
   "metadata": {},
   "outputs": [],
   "source": [
    "assert(train_vals_from_string.applymap(lambda x:type(x)!=str).all(skipna=False).all(skipna=False) == True)\n",
    "assert(test_vals_from_string.applymap(lambda x:type(x)!=str).all(skipna=False).all(skipna=False) == True)"
   ]
  },
  {
   "cell_type": "markdown",
   "metadata": {},
   "source": [
    "Now we cast them as np arrays"
   ]
  },
  {
   "cell_type": "code",
   "execution_count": 354,
   "metadata": {},
   "outputs": [],
   "source": [
    "train_vals_from_string = np.asarray(train_vals_from_string)\n",
    "test_vals_from_string = np.asarray(test_vals_from_string)"
   ]
  },
  {
   "cell_type": "markdown",
   "metadata": {},
   "source": [
    "To get to a usable matrix of data, we must concatenate these using \"np.concatenate()\" which concatenates np.array objects together with an appropriately chosen axis. **Don't forget to include the offset term!** You may need to use .reshape() to cast the offset term into an array of the appropriate dimensions."
   ]
  },
  {
   "cell_type": "code",
   "execution_count": 355,
   "metadata": {},
   "outputs": [],
   "source": [
    "train_vals = np.concatenate((train_vals_real, \n",
    "                             train_vals_from_string, \n",
    "                             np.ones(t).reshape(t, 1)), axis=1)\n",
    "test_vals = np.concatenate((test_vals_real, \n",
    "                            test_vals_from_string, \n",
    "                            np.ones(n - t).reshape(n - t, 1)), axis=1)"
   ]
  },
  {
   "cell_type": "markdown",
   "metadata": {},
   "source": [
    "Now let's fit the linear model, compute and print the MSE, and plot the predicted versus the real data.\n",
    "\n",
    "We provide some useful helper functions below, though we ask you to complete the MSE function.\n",
    "\n",
    "Plotting all the test data might significantly slow down this notebook; if that happens, feel free to plot just the first couple hundred points."
   ]
  },
  {
   "cell_type": "code",
   "execution_count": 356,
   "metadata": {},
   "outputs": [],
   "source": [
    "# This function just computes the mean squared error\n",
    "def MSE(y, pred):\n",
    "    return np.square(np.subtract(y,pred)).mean()\n",
    "\n",
    "# This function plots the main diagonal;for a \"predicted vs true\" plot with perfect predictions, all data lies on this line\n",
    "def plotDiagonal(xmin, xmax):\n",
    "    xsamples = np.arange(xmin,xmax,step=0.01)\n",
    "    plt.plot(xsamples,xsamples,c='black')\n",
    "\n",
    "# This helper function plots x vs y and labels the axes\n",
    "def plotdata(x=None,y=None,xname=None,yname=None,margin=0.05,plotDiag=True,zeromin=False):\n",
    "    plt.scatter(x,y,label='data')\n",
    "    plt.xlabel(xname)\n",
    "    plt.ylabel(yname)\n",
    "    range_x = max(x) - min(x)\n",
    "    range_y = max(y) - min(y)\n",
    "    if plotDiag:\n",
    "        plotDiagonal(min(x)-margin*range_x,max(x)+margin*range_x)\n",
    "    if zeromin:\n",
    "        plt.xlim(0.0,max(x)+margin*range_x)\n",
    "        plt.ylim(0.0,max(y)+margin*range_y)\n",
    "    else:\n",
    "        plt.xlim(min(x)-margin*range_x,max(x)+margin*range_x)\n",
    "        plt.ylim(min(y)-margin*range_y,max(y)+margin*range_y)\n",
    "    plt.show()\n",
    "\n",
    "# This function plots the predicted labels vs the actual labels (We only plot the first 1000 points to avoid slow plots)\n",
    "def plot_pred_true(test_pred=None, test_y=None, max_points = 1000):\n",
    "    plotdata(test_pred[1:max_points], test_y[1:max_points],'Predicted', 'True', zeromin=True)"
   ]
  },
  {
   "cell_type": "code",
   "execution_count": 357,
   "metadata": {},
   "outputs": [],
   "source": [
    "# This function runs OLS and bypasses any SVD (Singular Value Decomposition) convergence errors by refitting the model\n",
    "def run_OLS(train_y, test_y, train_vals, test_vals):\n",
    "    ols_model = sm.regression.linear_model.OLS(train_y, train_vals)\n",
    "    while True: # Bypasses SVD convergence assertion error\n",
    "        try:\n",
    "            results = ols_model.fit()\n",
    "            break\n",
    "        except:\n",
    "            None\n",
    "            \n",
    "    w = np.array(results.params).reshape([len(results.params),1])\n",
    "\n",
    "    train_pred = np.matmul(train_vals,w)\n",
    "    test_pred = np.matmul(test_vals,w)\n",
    "\n",
    "    train_MSE = MSE(train_y, train_pred.flatten())\n",
    "    test_MSE = MSE(test_y, test_pred.flatten())\n",
    "    \n",
    "    return train_MSE, test_MSE, test_pred"
   ]
  },
  {
   "cell_type": "code",
   "execution_count": 358,
   "metadata": {},
   "outputs": [],
   "source": [
    "train_MSE, test_MSE, test_pred = run_OLS(train_y, test_y, train_vals, test_vals)"
   ]
  },
  {
   "cell_type": "code",
   "execution_count": 359,
   "metadata": {},
   "outputs": [
    {
     "name": "stdout",
     "output_type": "stream",
     "text": [
      "Train MSE\t 5641.824370720242\n",
      "Test MSE\t 5716.17435599449\n"
     ]
    },
    {
     "data": {
      "image/png": "[encoded data removed]",
      "text/plain": [
       "<Figure size 432x288 with 1 Axes>"
      ]
     },
     "metadata": {
      "needs_background": "light"
     },
     "output_type": "display_data"
    }
   ],
   "source": [
    "print(\"Train MSE\\t\", str(train_MSE))\n",
    "print(\"Test MSE\\t\", str(test_MSE))\n",
    "\n",
    "plot_pred_true(test_pred.flatten(), test_y) #.flatten() will make sure the dimensions match"
   ]
  },
  {
   "cell_type": "markdown",
   "metadata": {},
   "source": [
    "The two seem to trend in the same direction, but there is still plenty of room for improvement.\n",
    "\n",
    "We are missing some of the most important data, namely, the type of rental. After all, a well-reviewed tent will never cost as much as a poorly-reviewed house. We'll ignore the issue of location for now, because it is significantly thornier.\n",
    "\n",
    "Unfortunately, this data is stored in categorical columns, which require a little more work to utilize. Here are the data parameters:\n",
    "\n",
    "  - property_type\n",
    "  - room_type\n",
    "  - bed_type\n",
    "  - cancellation_policy\n",
    "  - host_response_time\n",
    "  \n",
    "These are all best handled with boolean encoding. It's worth mentioning that there is an additional category which can be handled with one-hot vectors, where more than one entry in the column can be $1$:\n",
    "\n",
    "  - host_verifications\n",
    "\n",
    "There are also many boolean parameters, which might inform the price:\n",
    "\n",
    "  - require_guest_profile_picture\n",
    "  - require_guest_phone_verification\n",
    "  - instant_bookable\n",
    "  - is_business_travel_ready\n",
    "  - has_availability\n",
    "  - is_location_exact\n",
    "  - host_identity_verified\n",
    "  - host_has_profile_pic\n",
    "  - host_is_superhost\n",
    "\n",
    "Let's handle the boolean values first.\n",
    "\n",
    "## c) Boolean Data\n",
    "\n",
    "We've provided a helper function to convert the values stored in the original dataset - \"t\" and \"f\" - into Python \"true\" and \"false.\" Extract the arrays for these parameters, then concatenate this new data with all the data you had previously."
   ]
  },
  {
   "cell_type": "code",
   "execution_count": 360,
   "metadata": {},
   "outputs": [],
   "source": [
    "# Converts from \"t\" and \"f\" into true and false\n",
    "def string_to_bool(string):\n",
    "    return string == 't'\n",
    "\n",
    "bool_labels = [\n",
    "  'require_guest_profile_picture',\n",
    "  'require_guest_phone_verification',\n",
    "  'instant_bookable',\n",
    "  'is_business_travel_ready',\n",
    "  'has_availability',\n",
    "  'is_location_exact',\n",
    "  'host_identity_verified',\n",
    "  'host_has_profile_pic',\n",
    "  'host_is_superhost'\n",
    "]"
   ]
  },
  {
   "cell_type": "code",
   "execution_count": 361,
   "metadata": {},
   "outputs": [],
   "source": [
    "# the following variable should have as many columns as real variables, and as many rows as examples in the training set   \n",
    "train_bv = train_x[bool_labels].applymap(string_to_bool)\n",
    "# the following variable should have as many columns as real variables, and as many rows as examples in the test set\n",
    "test_bv = test_x[bool_labels].applymap(string_to_bool)"
   ]
  },
  {
   "cell_type": "code",
   "execution_count": 362,
   "metadata": {},
   "outputs": [],
   "source": [
    "assert(train_bv.applymap(lambda x:type(x)== bool).all(skipna=False).all(skipna=False) == True)\n",
    "assert(test_bv.applymap(lambda x:type(x)== bool).all(skipna=False).all(skipna=False) == True)"
   ]
  },
  {
   "cell_type": "code",
   "execution_count": 363,
   "metadata": {},
   "outputs": [],
   "source": [
    "train_bv = np.asarray(train_bv)\n",
    "test_bv = np.asarray(test_bv)"
   ]
  },
  {
   "cell_type": "code",
   "execution_count": 364,
   "metadata": {},
   "outputs": [],
   "source": [
    "# concatenate the real and boolean features to form your X train and test matrices\n",
    "train_vals = np.concatenate((train_vals_real, \n",
    "                             train_bv, \n",
    "                             np.ones(t).reshape(t, 1)), axis=1)\n",
    "\n",
    "test_vals = np.concatenate((test_vals_real, \n",
    "                            test_bv, \n",
    "                            np.ones(n - t).reshape(n - t, 1)), axis=1)"
   ]
  },
  {
   "cell_type": "markdown",
   "metadata": {},
   "source": [
    "Now, refit, and compute the MSE."
   ]
  },
  {
   "cell_type": "code",
   "execution_count": 365,
   "metadata": {},
   "outputs": [],
   "source": [
    "train_MSE, test_MSE, test_pred = run_OLS(train_y, test_y, train_vals, test_vals)"
   ]
  },
  {
   "cell_type": "code",
   "execution_count": 366,
   "metadata": {},
   "outputs": [
    {
     "name": "stdout",
     "output_type": "stream",
     "text": [
      "Train MSE\t 6303.3339315570975\n",
      "Test MSE\t 6519.273805927246\n"
     ]
    },
    {
     "data": {
      "image/png": "[encoded data removed]",
      "text/plain": [
       "<Figure size 432x288 with 1 Axes>"
      ]
     },
     "metadata": {
      "needs_background": "light"
     },
     "output_type": "display_data"
    }
   ],
   "source": [
    "print(\"Train MSE\\t\", str(train_MSE))\n",
    "print(\"Test MSE\\t\", str(test_MSE))\n",
    "\n",
    "plot_pred_true(test_pred.flatten(), test_y)"
   ]
  },
  {
   "cell_type": "markdown",
   "metadata": {},
   "source": [
    "That didn't help much! In fact, that's not terribly surprising. See what the MSE is if we use only the boolean values:"
   ]
  },
  {
   "cell_type": "code",
   "execution_count": 367,
   "metadata": {},
   "outputs": [],
   "source": [
    "train_bools = np.concatenate((train_bv, np.ones(t).reshape(t, 1)), axis=1)\n",
    "\n",
    "test_bools = np.concatenate((test_bv, np.ones(n - t).reshape(n - t, 1)), axis=1)"
   ]
  },
  {
   "cell_type": "code",
   "execution_count": 368,
   "metadata": {},
   "outputs": [
    {
     "name": "stdout",
     "output_type": "stream",
     "text": [
      "Train MSE\t 10392.964876310676\n",
      "Test MSE\t 10338.938387812601\n"
     ]
    },
    {
     "data": {
      "image/png": "[encoded data removed]",
      "text/plain": [
       "<Figure size 432x288 with 1 Axes>"
      ]
     },
     "metadata": {
      "needs_background": "light"
     },
     "output_type": "display_data"
    }
   ],
   "source": [
    "train_MSE, test_MSE, test_pred = run_OLS(train_y, test_y, train_bools, test_bools)\n",
    "\n",
    "print(\"Train MSE\\t\", str(train_MSE))\n",
    "print(\"Test MSE\\t\", str(test_MSE))\n",
    "\n",
    "plot_pred_true(test_pred.flatten(), test_y)"
   ]
  },
  {
   "cell_type": "markdown",
   "metadata": {},
   "source": [
    "In fact this is not too surprising - the most informative data is going to be categorical, since a well-reviewed tent is never going to cost as much as a poorly reviewed full house.\n",
    "\n",
    "## d) Categorical Data\n",
    "\n",
    "Transform the data into one-hot vectors. The categories are easy to extract using the \"np.unique()\" function.\n",
    "\n",
    "Here, we ask that you contribute a little more to the helper function, since this transformation is not trivial. Notice that the categories are passed as an argument - this is important, in case the test set doesn't have a representation for all of the categories in the training set.\n",
    "\n",
    "Make sure your function is linear in the number of data points (entries in the column) which it processes. You can use the nested loop structure provided, or clever list comprehensions. Bonus points if you use a \"Dataframe\" object in a clever way that makes the function significantly faster.\n",
    "\n",
    "If a category appears in the test set but not in the training set, the \"one hot\" vector should be a vector of zeros for that parameter. (In other words, we one-hot encode only the categories in the training set)"
   ]
  },
  {
   "cell_type": "code",
   "execution_count": 369,
   "metadata": {},
   "outputs": [
    {
     "data": {
      "text/plain": [
       "[array(['Apartment', 'Loft', 'Guest suite', 'Bed and breakfast',\n",
       "        'Townhouse', 'Condominium', 'Other', 'House', 'Serviced apartment',\n",
       "        'Hostel', 'Bungalow', 'Boutique hotel', 'Guesthouse', 'Timeshare',\n",
       "        'Vacation home', 'Villa', 'Dorm', 'Boat', 'Aparthotel', 'In-law',\n",
       "        'Hotel', 'Resort', 'Yurt', 'Earth house', 'Camper/RV', 'Cabin',\n",
       "        'Treehouse', 'Island', 'Casa particular (Cuba)', 'Tent'],\n",
       "       dtype=object),\n",
       " array(['Entire home/apt', 'Private room', 'Shared room'], dtype=object),\n",
       " array(['Real Bed', 'Airbed', 'Couch', 'Futon', 'Pull-out Sofa'],\n",
       "       dtype=object),\n",
       " array(['moderate', 'strict', 'flexible', 'super_strict_30',\n",
       "        'super_strict_60'], dtype=object),\n",
       " array(['NaN', 'within an hour', 'within a few hours',\n",
       "        'a few days or more', 'within a day'], dtype=object)]"
      ]
     },
     "execution_count": 369,
     "metadata": {},
     "output_type": "execute_result"
    }
   ],
   "source": [
    "cat_labels = [\n",
    "  'property_type',\n",
    "  'room_type',\n",
    "  'bed_type',\n",
    "  'cancellation_policy',\n",
    "  'host_response_time'\n",
    "]\n",
    "\n",
    "#Sets of all categories in a particular column\n",
    "cats_sets = [train_x.loc[:, label].fillna('NaN').unique() for label in cat_labels]\n",
    "cats_sets"
   ]
  },
  {
   "cell_type": "code",
   "execution_count": 370,
   "metadata": {},
   "outputs": [],
   "source": [
    "# Computes a onehot vector for every entry in column given a set of categories 'cats'\n",
    "# Here, 'col' should be the set of unique categories for the input 'column': you can fetch this from 'cats_sets'\n",
    "\n",
    "def onehot(column=None, col=None):\n",
    "    size = column.size\n",
    "    matrix = np.concatenate([np.array(column == c).reshape(size, 1) for c in col], axis = 1)\n",
    "    return matrix"
   ]
  },
  {
   "cell_type": "code",
   "execution_count": 371,
   "metadata": {},
   "outputs": [],
   "source": [
    "# These may take more than one line of code, since you will need to concatenate several numpy arrays\n",
    "# train_cat_vals = pd.concat(onehot(train_x, cat_labels[cat_label] for cat_label in cat_labels), axis = 1)\n",
    "# test_cat_vals = np.concatenate(onehot(test_x[cat_label], cats_sets) for cat_label in cat_labels)\n",
    "\n",
    "train_cat_vals = np.concatenate([onehot(train_x[cat_labels[idx]], cats_sets[idx]) for idx in range(len(cat_labels))], axis = 1)\n",
    "test_cat_vals = np.concatenate([onehot(test_x[cat_labels[idx]], cats_sets[idx]) for idx in range(len(cat_labels))], axis = 1)"
   ]
  },
  {
   "cell_type": "markdown",
   "metadata": {},
   "source": [
    "Concatenate the one-hot encoded features with all the data you had previously."
   ]
  },
  {
   "cell_type": "code",
   "execution_count": 372,
   "metadata": {},
   "outputs": [],
   "source": [
    "train_vals = np.concatenate((train_vals_real, \n",
    "                             train_vals_from_string,\n",
    "                             train_bv, \n",
    "                             train_cat_vals,\n",
    "                             np.ones(t).reshape(t, 1)), axis=1)\n",
    "test_vals =np.concatenate((test_vals_real, \n",
    "                           test_vals_from_string,\n",
    "                           test_bv, \n",
    "                           test_cat_vals,np.ones(n - t).reshape(n -t, 1)), axis=1)"
   ]
  },
  {
   "cell_type": "code",
   "execution_count": 373,
   "metadata": {},
   "outputs": [],
   "source": [
    "train_MSE, test_MSE, test_pred = run_OLS(train_y, test_y, train_vals, test_vals)"
   ]
  },
  {
   "cell_type": "code",
   "execution_count": 374,
   "metadata": {},
   "outputs": [
    {
     "name": "stdout",
     "output_type": "stream",
     "text": [
      "Train MSE\t 4958.2048243645095\n",
      "Test MSE\t 5154.586689258608\n"
     ]
    },
    {
     "data": {
      "image/png": "[encoded data removed]",
      "text/plain": [
       "<Figure size 432x288 with 1 Axes>"
      ]
     },
     "metadata": {
      "needs_background": "light"
     },
     "output_type": "display_data"
    }
   ],
   "source": [
    "print(\"Train MSE\\t\", str(train_MSE))\n",
    "print(\"Test MSE\\t\", str(test_MSE))\n",
    "\n",
    "plot_pred_true(test_pred.flatten(), test_y)"
   ]
  },
  {
   "cell_type": "markdown",
   "metadata": {},
   "source": [
    "We're making significant improvements! About $10 \\%$ of the previous MSE can be accounted for with this set of parameters.\n",
    "\n",
    "## e) Set data\n",
    "\n",
    "There is another type of data - stored in the host_verifications column - that we haven't used yet. This is set data, best encoded with a many-hot vector.\n",
    "\n",
    "This particular column does not turn out to be particularly informative, but it is valuable to work with it firsthand.\n",
    "\n",
    "The set data happens to be stored in a format that is very close to a valid declaration of a Python string array, so all we have to do is a little parsing:"
   ]
  },
  {
   "cell_type": "code",
   "execution_count": 375,
   "metadata": {},
   "outputs": [
    {
     "name": "stdout",
     "output_type": "stream",
     "text": [
      "['email', 'phone', 'facebook', 'google', 'reviews']\n",
      "<class 'str'>\n"
     ]
    }
   ],
   "source": [
    "unparsed_str = train_x.loc[:, 'host_verifications'][0]\n",
    "print(unparsed_str)\n",
    "print(type(unparsed_str))"
   ]
  },
  {
   "cell_type": "code",
   "execution_count": 376,
   "metadata": {},
   "outputs": [
    {
     "name": "stdout",
     "output_type": "stream",
     "text": [
      "['email', 'phone', 'facebook', 'google', 'reviews']\n",
      "<class 'list'>\n",
      "[<class 'str'>, <class 'str'>, <class 'str'>, <class 'str'>, <class 'str'>]\n"
     ]
    }
   ],
   "source": [
    "parsed_str = train_x.loc[:, 'host_verifications'][0].strip('[]').replace('\\'','').split(', ')\n",
    "print(parsed_str)\n",
    "print(type(parsed_str))\n",
    "print([type(i) for i in parsed_str])"
   ]
  },
  {
   "cell_type": "markdown",
   "metadata": {},
   "source": [
    "Write a helper function (using the previos two code blocks as reference) that will parse the strings found in the host_verifications column into appropriate string arrays."
   ]
  },
  {
   "cell_type": "code",
   "execution_count": 377,
   "metadata": {},
   "outputs": [],
   "source": [
    "def parse_str(string):\n",
    "    arr = np.array(string.strip('[]').replace('\\'','').split(', '))\n",
    "    return arr"
   ]
  },
  {
   "cell_type": "markdown",
   "metadata": {},
   "source": [
    "Now apply this function elementwise to the column host_verifications; note that a column of dataframe is a Series object; and Series object use the method .apply as opposed to .applymap."
   ]
  },
  {
   "cell_type": "code",
   "execution_count": 378,
   "metadata": {},
   "outputs": [
    {
     "name": "stdout",
     "output_type": "stream",
     "text": [
      "['email' 'phone' 'facebook' 'google' 'reviews']\n",
      "<class 'numpy.ndarray'>\n"
     ]
    }
   ],
   "source": [
    "train_set_vals = train_x['host_verifications'].apply(parse_str)\n",
    "test_set_vals = test_x['host_verifications'].apply(parse_str)\n",
    "\n",
    "print(train_set_vals[0])\n",
    "print(type(train_set_vals[0]))"
   ]
  },
  {
   "cell_type": "markdown",
   "metadata": {},
   "source": [
    "By the way, if you are working on your project, there is a decent chance that sets were stored in a format similar to what we saw here. Using similar string compositions, you will likely be able to similarly parse the data into Python container types (whether arrays or proper Python sets).\n",
    "\n",
    "Now, take this array of arrays, and turn it into a many-hot vector. You are welcome to use the nested loop structure below, or array comprehensions, or even the DataFrame object if you wish."
   ]
  },
  {
   "cell_type": "code",
   "execution_count": 379,
   "metadata": {},
   "outputs": [],
   "source": [
    "# This is the collection of all types we need to worry about.\n",
    "vtypes = train_set_vals.explode().unique()\n",
    "\n",
    "def manyhot(column=None, col=None): \n",
    "    height = column.size\n",
    "    width = len(col)\n",
    "    siz = (height,width)\n",
    "    matrix = np.zeros(siz)\n",
    "    arr = np.array(column)\n",
    "    for i in range(width):\n",
    "        for j in range(height):\n",
    "            if col[i] in arr[j]:\n",
    "                matrix[j][i] = 1\n",
    "    return matrix"
   ]
  },
  {
   "cell_type": "code",
   "execution_count": 380,
   "metadata": {},
   "outputs": [],
   "source": [
    "train_set_vals = manyhot(train_set_vals, vtypes)\n",
    "test_set_vals = manyhot(test_set_vals, vtypes)"
   ]
  },
  {
   "cell_type": "markdown",
   "metadata": {},
   "source": [
    "We will attach it to the full list of values used so far, but it won't change the MSE much, unfortunately:"
   ]
  },
  {
   "cell_type": "code",
   "execution_count": 381,
   "metadata": {},
   "outputs": [],
   "source": [
    "train_vals = np.concatenate((train_set_vals, \n",
    "                             train_cat_vals, \n",
    "                             train_vals_from_string, \n",
    "                             train_vals_real, \n",
    "                             train_bv, \n",
    "                             np.ones(t).reshape((t, 1))), axis = 1)\n",
    "\n",
    "test_vals = np.concatenate((test_set_vals, \n",
    "                            test_cat_vals, \n",
    "                            test_vals_from_string, \n",
    "                            test_vals_real, \n",
    "                            test_bv, \n",
    "                            np.ones(n - t).reshape((n - t, 1))), axis = 1)\n",
    "\n"
   ]
  },
  {
   "cell_type": "code",
   "execution_count": 382,
   "metadata": {},
   "outputs": [
    {
     "name": "stdout",
     "output_type": "stream",
     "text": [
      "Train MSE\t 4947.910778696334\n",
      "Test MSE\t 5157.829527741999\n"
     ]
    },
    {
     "data": {
      "image/png": "[encoded data removed]",
      "text/plain": [
       "<Figure size 432x288 with 1 Axes>"
      ]
     },
     "metadata": {
      "needs_background": "light"
     },
     "output_type": "display_data"
    }
   ],
   "source": [
    "train_MSE, test_MSE, test_pred = run_OLS(train_y, test_y, train_vals, test_vals)\n",
    "\n",
    "print(\"Train MSE\\t\", str(train_MSE))\n",
    "print(\"Test MSE\\t\", str(test_MSE))\n",
    "\n",
    "plot_pred_true(test_pred.flatten(), test_y)"
   ]
  },
  {
   "cell_type": "markdown",
   "metadata": {},
   "source": [
    "## f) Location, location, location\n",
    "\n",
    "If you remember, a common refrain in Real Estate is \"location, location, location.\" We're treating Manhattan properties with the same formula as Staten Island!\n",
    "\n",
    "The most naive way to include location data would be with the categories \"latitude\" and \"longitude\" - after all, these are continuous variables, so why not include them in the simplest manner possible?\n",
    "\n",
    "Load the longitude and lattitude data in, then try to see what the MSE is if you use *only* these variables,"
   ]
  },
  {
   "cell_type": "code",
   "execution_count": 383,
   "metadata": {},
   "outputs": [
    {
     "name": "stdout",
     "output_type": "stream",
     "text": [
      "Train MSE\t 9862.557467279337\n",
      "Test MSE\t 9817.759379066658\n"
     ]
    },
    {
     "data": {
      "image/png": "[encoded data removed]",
      "text/plain": [
       "<Figure size 432x288 with 1 Axes>"
      ]
     },
     "metadata": {
      "needs_background": "light"
     },
     "output_type": "display_data"
    }
   ],
   "source": [
    "loc_labels = ['latitude',\n",
    "             'longitude']\n",
    "\n",
    "train_loc_vals = np.concatenate((train_x[loc_labels], np.ones(t).reshape((t, 1))), axis = 1)\n",
    "test_loc_vals = np.concatenate((test_x[loc_labels], np.ones(n - t).reshape((n - t, 1))), axis = 1)\n",
    "\n",
    "\n",
    "train_loc_vals = np.array(train_loc_vals)\n",
    "test_loc_vals = np.array(test_loc_vals)\n",
    "\n",
    "train_MSE, test_MSE, test_pred = run_OLS(train_y, test_y, train_loc_vals, test_loc_vals)\n",
    "\n",
    "print(\"Train MSE\\t\", str(train_MSE))\n",
    "print(\"Test MSE\\t\", str(test_MSE))\n",
    "\n",
    "plot_pred_true(test_pred.flatten(), test_y)"
   ]
  },
  {
   "cell_type": "markdown",
   "metadata": {},
   "source": [
    "Clearly, this is insufficient. The reality is that price is a highly nonlinear function of location; simply going north or south does not directly translate into rental price.\n",
    "\n",
    "There are several solutions. We could expand our basis of functions, for instance, to use more than linear functions of longitude and lattitude:"
   ]
  },
  {
   "cell_type": "code",
   "execution_count": 384,
   "metadata": {},
   "outputs": [],
   "source": [
    "tr_lat = train_loc_vals[:,0]\n",
    "tr_long = train_loc_vals[:,1]\n",
    "train_lv2 = np.transpose( np.vstack([tr_lat, tr_long,\n",
    "                           tr_lat**2, tr_long**2, np.multiply(tr_lat,tr_long)]) )\n",
    "\n",
    "te_lat = test_loc_vals[:,0]\n",
    "te_long = test_loc_vals[:,1]\n",
    "test_lv2 = np.transpose( np.vstack([te_lat, te_long,\n",
    "                           te_lat**2, te_long**2, np.multiply(te_lat,te_long)]) )"
   ]
  },
  {
   "cell_type": "code",
   "execution_count": 385,
   "metadata": {},
   "outputs": [
    {
     "name": "stdout",
     "output_type": "stream",
     "text": [
      "Train MSE\t 9393.945052191462\n",
      "Test MSE\t 9393.008084780944\n"
     ]
    },
    {
     "data": {
      "image/png": "[encoded data removed]",
      "text/plain": [
       "<Figure size 432x288 with 1 Axes>"
      ]
     },
     "metadata": {
      "needs_background": "light"
     },
     "output_type": "display_data"
    }
   ],
   "source": [
    "train_MSE, test_MSE, test_pred = run_OLS(train_y, test_y, train_lv2, test_lv2)\n",
    "\n",
    "print(\"Train MSE\\t\", str(train_MSE))\n",
    "print(\"Test MSE\\t\", str(test_MSE))\n",
    "\n",
    "plot_pred_true(test_pred.flatten(), test_y)"
   ]
  },
  {
   "cell_type": "markdown",
   "metadata": {},
   "source": [
    "This helps somewhat with a small nonlinear basis, and a lot with a large basis.\n",
    "\n",
    "There are many different types of nonlinear location basis, of course. We've used a simple polynomial basis above. We might choose a Fourier basis instead; this is especially useful if we believe our data will have strong periodic components, but really this will handle any data in a confined space (assuming our data is sufficiently densely sampled to avoid horrible artefacts).\n",
    "\n",
    "There is a far simpler basis, however, which will work great in our case. Imagine a function that has value $1$ within a specific, closed region - say, an island, or a zip code. Now imagine we have a large list of such functions, which collectively tile the entire region of interest. Bonus points if the regions do not overlap, though that is technically not even necessary.\n",
    "\n",
    "Now, these functions are going to have fewer nice mathematical properties than Fourier features, or wavelets, or even polynomials - two adjacent points will tell us nothing about each other if they are on different sides of one of these artificial borders - but these functions might be very easy to compute. Taking a quick look at the list of columns, it seems we have a number of categorical location parameters to choose from.\n",
    "\n",
    "  - street\n",
    "  - neighbourhood\n",
    "  - neighbourhood_cleansed\n",
    "  - neighbourhood_group_cleansed\n",
    "  - city\n",
    "  - state\n",
    "  - zipcode\n",
    "  - market\n",
    "  - smart_location\n",
    "  - country_code\n",
    "  - country\n",
    "  \n",
    "Use one of the most granular descriptions available - zipcode - and see if that is a good descriptor of location.\n",
    "\n",
    "In the next cell, build a model using this parameter ONLY and print the train and test MSE.\n",
    "\n",
    "Note that it may seem cumbersome to put 'zipcode' in a list, but formatting the one-hot encoding as before ensures the methods are able to handle correct data types (e.g. no data type errors arise between Series vs Dataframe)"
   ]
  },
  {
   "cell_type": "code",
   "execution_count": 386,
   "metadata": {},
   "outputs": [
    {
     "name": "stdout",
     "output_type": "stream",
     "text": [
      "Number of categories\t 189\n"
     ]
    }
   ],
   "source": [
    "l = ['zipcode']\n",
    "\n",
    "cats_sets = [train_x.loc[:,i].fillna('NaN').unique() for i in l]\n",
    "print(\"Number of categories\\t\", len(cats_sets[0]))\n",
    "\n",
    "train_zip = onehot(train_x[l], cats_sets[0])\n",
    "test_zip = onehot(test_x[l], cats_sets[0])"
   ]
  },
  {
   "cell_type": "markdown",
   "metadata": {},
   "source": [
    "Now add an offset feature to 'train_zip' & 'test_zip' to create 'train_zip_only' & 'test_zip_only' and then fit your model. "
   ]
  },
  {
   "cell_type": "code",
   "execution_count": 387,
   "metadata": {},
   "outputs": [
    {
     "name": "stdout",
     "output_type": "stream",
     "text": [
      "Train MSE\t 8651.36001839523\n",
      "Test MSE\t 8846.119030828417\n"
     ]
    },
    {
     "data": {
      "image/png": "[encoded data removed]",
      "text/plain": [
       "<Figure size 432x288 with 1 Axes>"
      ]
     },
     "metadata": {
      "needs_background": "light"
     },
     "output_type": "display_data"
    }
   ],
   "source": [
    "train_zip_only = np.concatenate((train_zip, np.ones(t).reshape(t, 1)), axis = 1)\n",
    "test_zip_only = np.concatenate((test_zip, np.ones(n-t).reshape(n - t, 1)), axis = 1)\n",
    "\n",
    "train_MSE, test_MSE, test_pred = run_OLS(train_y, test_y, train_zip_only, test_zip_only)\n",
    "\n",
    "print(\"Train MSE\\t\", str(train_MSE))\n",
    "print(\"Test MSE\\t\", str(test_MSE))\n",
    "\n",
    "plot_pred_true(test_pred.flatten(), test_y)"
   ]
  },
  {
   "cell_type": "markdown",
   "metadata": {},
   "source": [
    "It might not look like much, but it's certainly better than raw longitude and lattitude. Compound the zip code data with the features that we've already accumulated, and print out the MSE scores and draw the plots for the full set:"
   ]
  },
  {
   "cell_type": "code",
   "execution_count": 388,
   "metadata": {},
   "outputs": [],
   "source": [
    "train_vals = np.concatenate((train_zip, \n",
    "                             train_set_vals, \n",
    "                             train_cat_vals, \n",
    "                             train_vals_from_string, \n",
    "                             train_vals_real, \n",
    "                             train_bv, \n",
    "                             np.ones(t).reshape((t, 1))), axis = 1)\n",
    "\n",
    "test_vals = np.concatenate((test_zip, \n",
    "                            test_set_vals, \n",
    "                            test_cat_vals, \n",
    "                            test_vals_from_string, \n",
    "                            test_vals_real, \n",
    "                            test_bv, \n",
    "                            np.ones(n - t).reshape((n - t, 1))), axis = 1)\n",
    "\n",
    "\n"
   ]
  },
  {
   "cell_type": "code",
   "execution_count": 389,
   "metadata": {},
   "outputs": [
    {
     "name": "stdout",
     "output_type": "stream",
     "text": [
      "Train MSE\t 3950.210964162419\n",
      "Test MSE\t 4271.579578574983\n"
     ]
    },
    {
     "data": {
      "image/png": "[encoded data removed]",
      "text/plain": [
       "<Figure size 432x288 with 1 Axes>"
      ]
     },
     "metadata": {
      "needs_background": "light"
     },
     "output_type": "display_data"
    }
   ],
   "source": [
    "train_MSE, test_MSE, test_pred = run_OLS(train_y, test_y, train_vals, test_vals)\n",
    "\n",
    "print(\"Train MSE\\t\", str(train_MSE))\n",
    "print(\"Test MSE\\t\", str(test_MSE))\n",
    "\n",
    "plot_pred_true(test_pred.flatten(), test_y)"
   ]
  },
  {
   "cell_type": "markdown",
   "metadata": {},
   "source": [
    "This is by far the best result so far. It seems that location brought in some new information, giving us significantly more predictive power.\n",
    "\n",
    "We are close to the end of all standard techniques (maybe some of the features we've modeled as reals should really be ordinals), but there is one more type of data that we haven't utilized yet."
   ]
  },
  {
   "cell_type": "markdown",
   "metadata": {},
   "source": [
    "## g) Text\n",
    "\n",
    "The following columns consist of long-form textual descriptions:\n",
    "\n",
    "  - name\n",
    "  - summary\n",
    "  - space\n",
    "  - neighborhood_overview\n",
    "  - notes\n",
    "  - transit\n",
    "  - access\n",
    "  - interaction\n",
    "  - house_rules\n",
    "\n",
    "We will experiment with using features from a pretrained neural network to represent this data.\n",
    "The neural network has learned an internal representation (say, at some hidden layer of the network) that it uses to make its predictions on a different task (such as sentiment prediction for sentences). \n",
    "\n",
    "We will use this internal representation directly for our task of AirBnB price prediction.\n",
    "Using an internal representation from an unrelated model as a feature is a common technique known as transfer learning.\n",
    "\n",
    "We will use pretrained features from the Universal Sentence Encoder (USE), which was designed explicitly for transfer learning to different tasks. \n",
    "[This paper](https://static.googleusercontent.com/media/research.google.com/en//pubs/archive/46808.pdf) documents how this neural network architecture was designed and trained: \n",
    "This network consumes text of arbitrary length, and produces a feature vector of length $512$. \n",
    "\n",
    "Your TAs have precomputed these features for all of the columns above into the table \"airbnb-use-embeddings.csv\",\n",
    "available [as a zip file on the course website](https://people.orie.cornell.edu/mru8/orie4741/homework/airbnb-use-embeddings.zip).\n",
    "The id of each AirBnB listing is provided, along with features with names of the form \"column_number:feature_number\". That is, the 468th feature of the 5th text data column (also known as the \"name\" column) will be found at '5:468'.\n",
    "\n",
    "You can use [this demo code](https://tfhub.dev/google/universal-sentence-encoder/2)) to explore the USE embedding further. If you would like to use this (or any other) embedding for your project, you are welcome to come to Office Hours and we will gladly help you with your project."
   ]
  },
  {
   "cell_type": "markdown",
   "metadata": {},
   "source": [
    "Returning to the AirBnB dataset, we can import the data into a new dataframe. Since our training data has been shuffled, we use a dataset join to assemble the data below."
   ]
  },
  {
   "cell_type": "code",
   "execution_count": 390,
   "metadata": {},
   "outputs": [],
   "source": [
    "df_tf = pd.read_csv(\"airbnb-use-embeddings.csv\") # Will take a while to read"
   ]
  },
  {
   "cell_type": "code",
   "execution_count": 391,
   "metadata": {},
   "outputs": [],
   "source": [
    "train_all = train_x.merge(df_tf, on='id',how='left')\n",
    "test_all = test_x.merge(df_tf, on='id',how='left')"
   ]
  },
  {
   "cell_type": "code",
   "execution_count": 392,
   "metadata": {},
   "outputs": [
    {
     "name": "stdout",
     "output_type": "stream",
     "text": [
      "Number of original features \t 93\n"
     ]
    }
   ],
   "source": [
    "print('Number of original features \\t', len(train_x.columns))\n",
    "\n",
    "train_embed = np.array(train_all.iloc[:, len(train_x.columns):])\n",
    "test_embed = np.array(test_all.iloc[:, len(train_x.columns):])"
   ]
  },
  {
   "cell_type": "markdown",
   "metadata": {},
   "source": [
    "To find out how useful these parameters are (or aren't), fit a linear model of price as a function of embedding only (with offset!). Keep in mind that due to the sheer number of parameters to fit, **this step may take several minutes**."
   ]
  },
  {
   "cell_type": "code",
   "execution_count": 393,
   "metadata": {},
   "outputs": [
    {
     "name": "stdout",
     "output_type": "stream",
     "text": [
      "Train MSE\t 4891.554512058394\n",
      "Test MSE\t 8265.085665717574\n"
     ]
    },
    {
     "data": {
      "image/png": "[encoded data removed]",
      "text/plain": [
       "<Figure size 432x288 with 1 Axes>"
      ]
     },
     "metadata": {
      "needs_background": "light"
     },
     "output_type": "display_data"
    }
   ],
   "source": [
    "train_embed_only = np.concatenate((train_embed, np.ones(t).reshape(t, 1)), axis = 1)\n",
    "test_embed_only = np.concatenate((test_embed, np.ones(n - t).reshape(n - t, 1)), axis = 1)\n",
    "\n",
    "train_MSE, test_MSE, test_pred = run_OLS(train_y, test_y, train_embed_only, test_embed_only)\n",
    "\n",
    "print(\"Train MSE\\t\", str(train_MSE))\n",
    "print(\"Test MSE\\t\", str(test_MSE))\n",
    "\n",
    "plot_pred_true(test_pred.flatten(), test_y)"
   ]
  },
  {
   "cell_type": "markdown",
   "metadata": {},
   "source": [
    "Two things are readily apparent: this embedding provides a lot of information, but we are massively overfitting. This is to be expected: after all we have $4689$ parameters to fit, but only $20000$ training points.\n",
    "\n",
    "Now, it's important to know whether this embedding is just capturing informaation more succinctly stored in the other columns, or whether its capturing something genuinely novel. For that, you will need to fit a function using all of the parameters currently at your disposal, then compute MSE and plot the predicted vs expected score. **This step may take several minutes**."
   ]
  },
  {
   "cell_type": "code",
   "execution_count": 394,
   "metadata": {},
   "outputs": [],
   "source": [
    "train_vals = np.concatenate((train_embed, \n",
    "                             train_zip, \n",
    "                             train_set_vals, \n",
    "                             train_cat_vals, \n",
    "                             train_vals_from_string, \n",
    "                             train_vals_real, \n",
    "                             train_bv, \n",
    "                             np.ones(t).reshape((t, 1))), axis = 1)\n",
    "\n",
    "test_vals = np.concatenate((test_embed, \n",
    "                            test_zip, \n",
    "                            test_set_vals, \n",
    "                            test_cat_vals, \n",
    "                            test_vals_from_string, \n",
    "                            test_vals_real, \n",
    "                            test_bv, \n",
    "                            np.ones(n - t).reshape((n - t, 1))), axis = 1)\n",
    "\n",
    "\n",
    "\n",
    "\n",
    "\n"
   ]
  },
  {
   "cell_type": "code",
   "execution_count": 395,
   "metadata": {},
   "outputs": [
    {
     "name": "stdout",
     "output_type": "stream",
     "text": [
      "Train MSE\t 2743.619045776992\n",
      "Test MSE\t 4976.202072211569\n"
     ]
    },
    {
     "data": {
      "image/png": "[encoded data removed]",
      "text/plain": [
       "<Figure size 432x288 with 1 Axes>"
      ]
     },
     "metadata": {
      "needs_background": "light"
     },
     "output_type": "display_data"
    }
   ],
   "source": [
    "train_MSE, test_MSE, test_pred = run_OLS(train_y, test_y, train_vals, test_vals)\n",
    "\n",
    "print(\"Train MSE\\t\", str(train_MSE))\n",
    "print(\"Test MSE\\t\", str(test_MSE))\n",
    "\n",
    "plot_pred_true(test_pred.flatten(), test_y)"
   ]
  },
  {
   "cell_type": "markdown",
   "metadata": {},
   "source": [
    "## h) Further improvements?\n",
    "\n",
    "In the above parts, we have seen the strength of adding more (useful) features in improving both training and test performance. In this part, we want to test the idea of whether we can further improve our model by not adding more features, but making wise use of the features.\n",
    "\n",
    "First, we prepare a data-subsampled dataset with only 20% of the training and test data points retained. This saves time for us to test more settings."
   ]
  },
  {
   "cell_type": "code",
   "execution_count": 396,
   "metadata": {},
   "outputs": [],
   "source": [
    "data_sampling_ratio = 0.20\n",
    "train_n_rows_to_sample = int(round(data_sampling_ratio * train_vals.shape[0]))\n",
    "train_idx_rows_to_sample = rand.sample(list(range(len(train_vals))), train_n_rows_to_sample)\n",
    "\n",
    "train_vals_real_small = train_vals_real[train_idx_rows_to_sample, :]\n",
    "train_vals_from_string_small = train_vals_from_string[train_idx_rows_to_sample, :]\n",
    "train_bv_small = train_bv[train_idx_rows_to_sample, :]\n",
    "train_cat_vals_small = train_cat_vals[train_idx_rows_to_sample, :]\n",
    "train_set_vals_small = train_set_vals[train_idx_rows_to_sample, :]\n",
    "train_zip_small = train_zip[train_idx_rows_to_sample, :];\n",
    "train_embed_small = train_embed[train_idx_rows_to_sample, :]\n",
    "\n",
    "train_vals_small = np.concatenate((train_vals_real_small, \n",
    "                train_vals_from_string_small, \n",
    "                train_bv_small,\n",
    "                train_cat_vals_small,\n",
    "                train_set_vals_small, \n",
    "                train_zip_small,\n",
    "                train_embed_small,\n",
    "                np.ones(len(train_vals_real_small)).reshape([len(train_vals_real_small),1]) ), axis=1)\n",
    "\n",
    "train_y_small = train_y.iloc[train_idx_rows_to_sample]"
   ]
  },
  {
   "cell_type": "code",
   "execution_count": 397,
   "metadata": {},
   "outputs": [],
   "source": [
    "# Repeat with test set\n",
    "data_sampling_ratio = 0.20\n",
    "test_n_rows_to_sample = int(round(data_sampling_ratio * test_vals.shape[0]))\n",
    "test_idx_rows_to_sample = rand.sample(list(range(len(test_vals))), test_n_rows_to_sample)\n",
    "\n",
    "test_vals_real_small = test_vals_real[test_idx_rows_to_sample, :]\n",
    "test_vals_from_string_small = test_vals_from_string[test_idx_rows_to_sample, :]\n",
    "test_bv_small = test_bv[test_idx_rows_to_sample, :]\n",
    "test_cat_vals_small = test_cat_vals[test_idx_rows_to_sample, :]\n",
    "test_set_vals_small = test_set_vals[test_idx_rows_to_sample, :]\n",
    "test_zip_small = test_zip[test_idx_rows_to_sample, :];\n",
    "test_embed_small = test_embed[test_idx_rows_to_sample, :]\n",
    "\n",
    "test_vals_small = np.concatenate((test_vals_real_small, \n",
    "                test_vals_from_string_small, \n",
    "                test_bv_small,\n",
    "                test_cat_vals_small,\n",
    "                test_set_vals_small, \n",
    "                test_zip_small,\n",
    "                test_embed_small,\n",
    "                np.ones(len(test_vals_real_small)).reshape([len(test_vals_real_small),1]) ), axis=1)\n",
    "\n",
    "test_y_small = test_y.iloc[test_idx_rows_to_sample]"
   ]
  },
  {
   "cell_type": "markdown",
   "metadata": {},
   "source": [
    "Then we train the linear regressor on the subsampled training set, and take a look at training and test MSEs. Despite the fact we shrunk our dataset, **this step may take a few minutes**."
   ]
  },
  {
   "cell_type": "code",
   "execution_count": 398,
   "metadata": {},
   "outputs": [
    {
     "name": "stdout",
     "output_type": "stream",
     "text": [
      "Train MSE\t 3.646020038004943e-11\n",
      "Test MSE\t 56790.215717319654\n"
     ]
    },
    {
     "data": {
      "image/png": "[encoded data removed]",
      "text/plain": [
       "<Figure size 432x288 with 1 Axes>"
      ]
     },
     "metadata": {
      "needs_background": "light"
     },
     "output_type": "display_data"
    }
   ],
   "source": [
    "train_MSE_small, test_MSE_small, test_pred_small = run_OLS(train_y_small, test_y_small, train_vals_small, test_vals_small)\n",
    "\n",
    "print(\"Train MSE\\t\", str(train_MSE_small))\n",
    "print(\"Test MSE\\t\", str(test_MSE_small))\n",
    "\n",
    "plot_pred_true(test_pred_small.flatten(), test_y_small)"
   ]
  },
  {
   "cell_type": "markdown",
   "metadata": {},
   "source": [
    "**QUESTION H1)**: Compare the training and test MSEs on the data-subsampled dataset with those on the original dataset: the one that includes all data points and all features, as you did in the cell above the heading of this section. For these two fitted models, are they overfitting or underfitting? Which one over/underfits more? Why?"
   ]
  },
  {
   "cell_type": "markdown",
   "metadata": {},
   "source": [
    "**YOUR RESPONSE:** \n",
    "\n",
    "They both overfit. The second one overfits more. This is because the training error in the second one is extremely low while the test error is extremely large. Compared with the second one, the training error is just about half of the testing error in the first one. Basically in the second one the training model just memorized the data.  "
   ]
  },
  {
   "cell_type": "markdown",
   "metadata": {},
   "source": [
    "What we are going to try first is to randomly select only a subset of the **text embedding** features for model fitting and prediction. In the next cell, randomly sample 10% of the text embedding features **from the data-subsampled training and test datasets** (so that the following steps would not take too much time) and **retain all the other features (including the offest)**. We call this the entire data-subsampled dataset (i.e., not feature-subsampled) in the following context. Then, use the new set of features to fit a linear regression model on the training set and predict on the test set. Print the training and test MSEs."
   ]
  },
  {
   "cell_type": "code",
   "execution_count": 399,
   "metadata": {},
   "outputs": [],
   "source": [
    "import random\n",
    "import math\n",
    "subset_sampling_ratio = 0.1\n",
    "selected_feature_idx = random.sample(range(0, train_embed_small.shape[1]-1), math.floor(train_embed_small.shape[1] * 0.1))\n",
    "selected_train_vals_small = train_vals_small[:, selected_feature_idx]\n",
    "selected_test_vals_small = test_vals_small[:, selected_feature_idx]"
   ]
  },
  {
   "cell_type": "code",
   "execution_count": 400,
   "metadata": {},
   "outputs": [
    {
     "name": "stdout",
     "output_type": "stream",
     "text": [
      "Train MSE\t 6956.746024344038\n",
      "Test MSE\t 8713.641212967546\n"
     ]
    },
    {
     "data": {
      "image/png": "[encoded data removed]",
      "text/plain": [
       "<Figure size 432x288 with 1 Axes>"
      ]
     },
     "metadata": {
      "needs_background": "light"
     },
     "output_type": "display_data"
    }
   ],
   "source": [
    "selected_train_MSE_small, selected_test_MSE_small, selected_test_pred_small = run_OLS(train_y_small, test_y_small, selected_train_vals_small, selected_test_vals_small)\n",
    "\n",
    "print(\"Train MSE\\t\", str(selected_train_MSE_small))\n",
    "print(\"Test MSE\\t\", str(selected_test_MSE_small))\n",
    "\n",
    "plot_pred_true(selected_test_pred_small.flatten(), test_y_small)"
   ]
  },
  {
   "cell_type": "markdown",
   "metadata": {},
   "source": [
    "In the next cell, test on a collection of the number of text embedding features to sample, and plot the change of train and test MSEs. This may take several minutes, but you would not need to do it multiple times as long as your code in the above cell works well. "
   ]
  },
  {
   "cell_type": "code",
   "execution_count": 401,
   "metadata": {},
   "outputs": [
    {
     "name": "stdout",
     "output_type": "stream",
     "text": [
      "Number of text embedding features to sample:  10\n",
      "Train MSE\t 3692.147838640274\n",
      "Test MSE\t 4692.740923143517\n",
      "Number of text embedding features to sample:  50\n",
      "Train MSE\t 3638.3199234190133\n",
      "Test MSE\t 4666.229325520157\n",
      "Number of text embedding features to sample:  100\n",
      "Train MSE\t 3596.417041808369\n",
      "Test MSE\t 4802.173094799994\n",
      "Number of text embedding features to sample:  200\n",
      "Train MSE\t 3425.613736912246\n",
      "Test MSE\t 4673.252384825823\n",
      "Number of text embedding features to sample:  500\n",
      "Train MSE\t 3112.1524568964314\n",
      "Test MSE\t 4799.855784215112\n",
      "Number of text embedding features to sample:  1000\n",
      "Train MSE\t 2692.3074107139346\n",
      "Test MSE\t 5747.151032757539\n",
      "Number of text embedding features to sample:  2000\n",
      "Train MSE\t 1824.1450202161411\n",
      "Test MSE\t 8445.563051531293\n",
      "Number of text embedding features to sample:  3000\n",
      "Train MSE\t 955.6772704698365\n",
      "Test MSE\t 18779.937968360628\n",
      "Number of text embedding features to sample:  4000\n",
      "Train MSE\t 133.40710338269665\n",
      "Test MSE\t 252268.4274192785\n"
     ]
    }
   ],
   "source": [
    "train_MSE_sub_all = []\n",
    "test_MSE_sub_all = []\n",
    "\n",
    "# the collection of number of text embedding features to sample\n",
    "n_embed_to_sample_all = [10, 50, 100, 200, 500, 1000, 2000, 3000, 4000]\n",
    "\n",
    "for n_embed_to_sample in n_embed_to_sample_all:\n",
    "    print(\"Number of text embedding features to sample: \", str(n_embed_to_sample))\n",
    "    idx_embed_to_sample = random.sample(range(0, train_embed.shape[1]-1), n_embed_to_sample)\n",
    "    \n",
    "    train_embed_sub = train_vals_small[:, idx_embed_to_sample]\n",
    "    test_embed_sub = test_vals_small[:, idx_embed_to_sample]\n",
    "    \n",
    "    train_vals_sub = np.concatenate((train_vals_real_small, \n",
    "                train_vals_from_string_small, \n",
    "                train_bv_small,\n",
    "                train_cat_vals_small,\n",
    "                train_set_vals_small, \n",
    "                train_zip_small,\n",
    "                train_embed_sub,\n",
    "                np.ones(len(train_vals_real_small)).reshape([len(train_vals_real_small),1]) ), axis=1)\n",
    "    \n",
    "    test_vals_sub = np.concatenate((test_vals_real_small, \n",
    "                test_vals_from_string_small, \n",
    "                test_bv_small,\n",
    "                test_cat_vals_small,\n",
    "                test_set_vals_small, \n",
    "                test_zip_small,\n",
    "                test_embed_sub,\n",
    "                np.ones(len(test_vals_real_small)).reshape([len(test_vals_real_small),1]) ), axis=1)\n",
    "    \n",
    "    train_MSE, test_MSE, test_pred_sub = run_OLS(train_y_small, test_y_small, train_vals_sub, test_vals_sub)\n",
    "    \n",
    "    print(\"Train MSE\\t\", str(train_MSE))\n",
    "    print(\"Test MSE\\t\", str(test_MSE))\n",
    "    \n",
    "    train_MSE_sub_all.append(train_MSE)\n",
    "    test_MSE_sub_all.append(test_MSE)"
   ]
  },
  {
   "cell_type": "markdown",
   "metadata": {},
   "source": [
    "In the next cell, plot the change of train and test MSEs with the number of sampled features, together with two horizontal lines showing the train and test MSEs on the entire data-subsampled dataset (i.e., not feature-subsampled). "
   ]
  },
  {
   "cell_type": "code",
   "execution_count": 402,
   "metadata": {},
   "outputs": [
    {
     "data": {
      "image/png": "[encoded data removed]",
      "text/plain": [
       "<Figure size 432x288 with 1 Axes>"
      ]
     },
     "metadata": {
      "needs_background": "light"
     },
     "output_type": "display_data"
    }
   ],
   "source": [
    "plt.plot(n_embed_to_sample_all, train_MSE_sub_all, linestyle='-', marker='o',label = 'train error', color = 'orange');\n",
    "plt.plot(n_embed_to_sample_all, test_MSE_sub_all, linestyle='-', marker='o',label = 'test error', color = 'pink');\n",
    "plt.axhline(train_MSE_small, linestyle='-', label = 'train mse on entire', color = 'grey');\n",
    "plt.axhline(test_MSE_small, linestyle='-', label = 'test mse on entire', color = 'skyblue');\n",
    "plt.legend()\n",
    "plt.show()"
   ]
  },
  {
   "cell_type": "markdown",
   "metadata": {},
   "source": [
    "**QUESTION H2)**: \n",
    "- In the plot you get above:does the model over/underfit worse when the number of sampled text embedding feature increases?  Why?\n",
    "- Compared to the model performance on the entire data-subsampled dataset (i.e., not feature-subsampled), how does feature subsampling work, in terms of prediction error and generalization?"
   ]
  },
  {
   "cell_type": "markdown",
   "metadata": {},
   "source": [
    "**YOUR RESPONSE:** \n",
    "\n",
    "The model overfit worse when the number of sampled text embedding features increases. Thhis is because as we added more features, some of them are not useful for the prediction of the test set. Therefore, even though these features works well for the training set, the model basically memorized the features in the training set, and this might not suitable for test set. \n",
    "\n",
    "The feature subsampling works better compared to the model performance on the entire data-subsampled dataset. Because the test error is lower, the prediction error and generalization are better. However, in the sample size of 4000, the subsampling works worse. But this is due to the randomness of our experiment.  "
   ]
  },
  {
   "cell_type": "markdown",
   "metadata": {},
   "source": [
    "Finally, we explore a \"smarter\" way of reducing the number of features using Principal Component Analysis (PCA) to embed the features. PCA projects the data onto a subspace of maximal variance, preserving as much signal as possible in fewer dimensions. We'll cover PCA later in the course.\n",
    "\n",
    "In the next cell, compute the Singular Value Decomposition (SVD) of the embedding features by using np.linalg.svd(). It may take a couple of trys to converge, so be aware that this cell **may take several minutes to run.**"
   ]
  },
  {
   "cell_type": "code",
   "execution_count": 403,
   "metadata": {},
   "outputs": [],
   "source": [
    "u_train, s_train, vh_train = np.linalg.svd(train_embed_small)"
   ]
  },
  {
   "cell_type": "code",
   "execution_count": 404,
   "metadata": {},
   "outputs": [],
   "source": [
    "u_test, s_test, vh_test = np.linalg.svd(test_embed_small)"
   ]
  },
  {
   "cell_type": "markdown",
   "metadata": {},
   "source": [
    "In the next cell, test on a collection of the rank of the PCA to use, and plot the change of train and test MSEs. **This may take several minutes.** In particular, take the first $k$ columns of $V$ where $USV^T$ is the SVD of the embedding feature matrix and right multiply the embedding feature matrix with the first $k$ columns of $V$. "
   ]
  },
  {
   "cell_type": "code",
   "execution_count": 405,
   "metadata": {},
   "outputs": [
    {
     "name": "stdout",
     "output_type": "stream",
     "text": [
      "Train MSE on the data-subsampled dataset \t 3.646020038004943e-11\n",
      "Test MSE on the data-subsampled dataset \t 56790.215717319654\n",
      "10\n",
      "Train MSE\t 3693.3033576304297\n",
      "Test MSE\t 4704.966734812622\n",
      "50\n",
      "Train MSE\t 3624.227848592355\n",
      "Test MSE\t 4725.24450185509\n",
      "100\n",
      "Train MSE\t 3562.9453332251305\n",
      "Test MSE\t 4703.653659932119\n",
      "500\n",
      "Train MSE\t 3139.7426018224446\n",
      "Test MSE\t 4941.587385002612\n",
      "1000\n",
      "Train MSE\t 2681.2960118930305\n",
      "Test MSE\t 5672.459347994128\n"
     ]
    }
   ],
   "source": [
    "train_MSE_pca_all = []\n",
    "test_MSE_pca_all = []\n",
    "\n",
    "print('Train MSE on the data-subsampled dataset \\t', str(train_MSE_small))\n",
    "print('Test MSE on the data-subsampled dataset \\t', str(test_MSE_small))\n",
    "\n",
    "k_all = [10, 50, 100, 500, 1000]\n",
    "\n",
    "for k in k_all:\n",
    "    print(k)\n",
    "    \n",
    "    V_k = vh_train[:, range(k)]\n",
    "    \n",
    "    train_embed_pca =  np.dot(train_embed_small,V_k) \n",
    "    test_embed_pca = np.dot(test_embed_small,V_k) \n",
    "\n",
    "    train_vals_pca = np.concatenate((train_vals_real_small, \n",
    "                train_vals_from_string_small, \n",
    "                train_bv_small,\n",
    "                train_cat_vals_small,\n",
    "                train_set_vals_small, \n",
    "                train_zip_small,\n",
    "                train_embed_pca,\n",
    "                np.ones(len(train_vals_real_small)).reshape([len(train_vals_real_small),1]) ), axis=1)\n",
    "    \n",
    "    test_vals_pca = np.concatenate((test_vals_real_small, \n",
    "                test_vals_from_string_small, \n",
    "                test_bv_small,\n",
    "                test_cat_vals_small,\n",
    "                test_set_vals_small, \n",
    "                test_zip_small,\n",
    "                test_embed_pca,\n",
    "                np.ones(len(test_vals_real_small)).reshape([len(test_vals_real_small),1]) ), axis=1)\n",
    "    \n",
    "    train_MSE, test_MSE, test_pred_sub = run_OLS(train_y_small, test_y_small, train_vals_pca, test_vals_pca)\n",
    "    \n",
    "    print(\"Train MSE\\t\", str(train_MSE))\n",
    "    print(\"Test MSE\\t\", str(test_MSE))\n",
    "    \n",
    "    train_MSE_pca_all.append(train_MSE)\n",
    "    test_MSE_pca_all.append(test_MSE)\n"
   ]
  },
  {
   "cell_type": "markdown",
   "metadata": {},
   "source": [
    "In the next cell, plot the change of train and test MSEs in the PCA case, in the same way as random sampling."
   ]
  },
  {
   "cell_type": "code",
   "execution_count": 406,
   "metadata": {},
   "outputs": [
    {
     "data": {
      "image/png": "[encoded data removed]",
      "text/plain": [
       "<Figure size 432x288 with 1 Axes>"
      ]
     },
     "metadata": {
      "needs_background": "light"
     },
     "output_type": "display_data"
    }
   ],
   "source": [
    "plt.plot(k_all, train_MSE_pca_all, linestyle='-', marker='o',label = 'train error', color = 'orange');\n",
    "plt.plot(k_all, test_MSE_pca_all, linestyle='-', marker='o',label = 'test error', color = 'pink');\n",
    "plt.axhline(train_MSE_small, linestyle='-', label = 'train mse on entire', color = 'grey');\n",
    "plt.axhline(test_MSE_small, linestyle='-', label = 'test mse on entire', color = 'skyblue');\n",
    "plt.legend()\n",
    "plt.show()"
   ]
  },
  {
   "cell_type": "markdown",
   "metadata": {},
   "source": [
    "**QUESTION H3)**: \n",
    "- In the PCA plot you get above, does the model over/underfits worse when the number of sampled text embedding feature increases? \n",
    "- Compared to randomly sampling the text embedding features, how does PCA works, in terms of prediction error and generalization?"
   ]
  },
  {
   "cell_type": "markdown",
   "metadata": {},
   "source": [
    "**YOUR RESPONSE:** \n",
    "\n",
    "The model overfits worse when the number of sampled text embedding feature increases.\n",
    "\n",
    "Compared to randomly sampling the text embedding features, the PCA works better in therms of prediction error and generalization. This is because v_k selected the maximal variance but the random sampling only selected k random features which might be trivial to our test set. "
   ]
  }
 ],
 "metadata": {
  "kernelspec": {
   "display_name": "Python 3",
   "language": "python",
   "name": "python3"
  },
  "language_info": {
   "codemirror_mode": {
    "name": "ipython",
    "version": 3
   },
   "file_extension": ".py",
   "mimetype": "text/x-python",
   "name": "python",
   "nbconvert_exporter": "python",
   "pygments_lexer": "ipython3",
   "version": "3.8.5"
  }
 },
 "nbformat": 4,
 "nbformat_minor": 2
}
